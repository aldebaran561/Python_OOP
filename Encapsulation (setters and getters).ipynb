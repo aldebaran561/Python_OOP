{
 "cells": [
  {
   "cell_type": "code",
   "execution_count": 14,
   "metadata": {},
   "outputs": [
    {
     "name": "stdout",
     "output_type": "stream",
     "text": [
      "Victor\n",
      "la Persona: Victor Agudelo, tiene 30 años\n",
      "Andrés\n",
      "la Persona: Andrés Agudelo, tiene 30 años\n",
      "Bustamante\n",
      "la Persona: Andrés Bustamante, tiene 30 años\n",
      "26\n",
      "la Persona: Andrés Bustamante, tiene 26 años\n"
     ]
    }
   ],
   "source": [
    "class Persona:\n",
    "    def __init__(self, nombre, apellido, edad):\n",
    "        self._nombre = nombre\n",
    "        self._apellido = apellido\n",
    "        self._edad = edad\n",
    "\n",
    "    @property  # Getter: Permite encapsular completamente el atributo protegido/privado\n",
    "    def nombre(self):\n",
    "        return self._nombre\n",
    "\n",
    "    @nombre.setter  # Setter: No es necesario poner el atributo en under or dunder, solo el nombre del atributo\n",
    "    def nombre(self, nombre):\n",
    "        self._nombre = nombre\n",
    "\n",
    "    @property\n",
    "    def apellido(self):\n",
    "        return self._apellido\n",
    "    \n",
    "    @apellido.setter\n",
    "    def apellido(self, apellido):\n",
    "        self._apellido = apellido\n",
    "    \n",
    "    @property\n",
    "    def edad(self):\n",
    "        return self._edad\n",
    "    \n",
    "    @edad.setter\n",
    "    def edad(self, edad):\n",
    "        self._edad = edad\n",
    "\n",
    "    def mostrar_detalles(self):\n",
    "        print(f'la Persona: {self._nombre} {self._apellido}, tiene {self._edad} años')\n",
    "\n",
    "        \n",
    "if __name__ == '__main__': #Permite que imprima esto solo cuando el objeto sea ejecutado desde el módulo principal\n",
    "    persona1 = Persona('Victor', 'Agudelo', 30)\n",
    "    print(persona1.nombre)  # No será necesario get_nombre() porque el decorador permite utilizarlo sin parentésis\n",
    "    persona1.mostrar_detalles()\n",
    "\n",
    "    persona1.nombre = 'Andrés'\n",
    "    print(persona1.nombre) # Al igual que en el getter, no es necesario utilizar () por el decorador que utilizamos en el método\n",
    "    persona1.mostrar_detalles()\n",
    "\n",
    "    persona1.apellido = 'Bustamante' #Permite setear un nuevo nombre de manera indirecta\n",
    "    print(persona1.apellido)\n",
    "    persona1.mostrar_detalles()\n",
    "\n",
    "    persona1.edad = 26\n",
    "    print(persona1.edad)\n",
    "    persona1.mostrar_detalles()"
   ]
  },
  {
   "cell_type": "code",
   "execution_count": null,
   "metadata": {},
   "outputs": [],
   "source": []
  }
 ],
 "metadata": {
  "kernelspec": {
   "display_name": "Python 3",
   "language": "python",
   "name": "python3"
  },
  "language_info": {
   "codemirror_mode": {
    "name": "ipython",
    "version": 3
   },
   "file_extension": ".py",
   "mimetype": "text/x-python",
   "name": "python",
   "nbconvert_exporter": "python",
   "pygments_lexer": "ipython3",
   "version": "3.7.4"
  }
 },
 "nbformat": 4,
 "nbformat_minor": 2
}
