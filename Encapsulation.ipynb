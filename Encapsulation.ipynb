{
 "cells": [
  {
   "cell_type": "code",
   "execution_count": null,
   "metadata": {},
   "outputs": [],
   "source": [
    "class Persona:\n",
    "\n",
    "    def __init__(self, name, cellphone, id):\n",
    "        self.name = name #Public data\n",
    "        self._cellphone = cellphone #Protected data\n",
    "        self.__id = id #Private data\n",
    "\n",
    "    def print_name(self): #Public method\n",
    "        return self.name\n",
    "\n",
    "    def _print_cell(self): #protected method\n",
    "        return self._cellphone\n",
    "\n",
    "    def __print_id(self): #private method\n",
    "        return self.__id\n",
    "\n",
    "    def real_print(self): #public method\n",
    "        return self.__print_id()\n",
    "\n",
    "class OtraPersona(Persona):\n",
    "\n",
    "    def __init__(self, name, cellphone, id):\n",
    "        Persona.__init__(self, name, cellphone, id)\n",
    "\n",
    "\n",
    "persona1 = Persona('Manuel', 3004504499, 1020446266)\n",
    "\n",
    "print(persona1.print_name())\n",
    "print(persona1._print_cell())\n",
    "\n",
    "persona2 = OtraPersona('Felipe', 3214615186, 1020455465)\n",
    "\n",
    "print(persona2.print_name())\n",
    "print(persona2._print_cell())\n",
    "\n",
    "print(persona1.real_print())\n",
    "print(persona2.real_print())"
   ]
  }
 ],
 "metadata": {
  "kernelspec": {
   "display_name": "Python 3",
   "language": "python",
   "name": "python3"
  },
  "language_info": {
   "codemirror_mode": {
    "name": "ipython",
    "version": 3
   },
   "file_extension": ".py",
   "mimetype": "text/x-python",
   "name": "python",
   "nbconvert_exporter": "python",
   "pygments_lexer": "ipython3",
   "version": "3.7.4"
  }
 },
 "nbformat": 4,
 "nbformat_minor": 2
}
